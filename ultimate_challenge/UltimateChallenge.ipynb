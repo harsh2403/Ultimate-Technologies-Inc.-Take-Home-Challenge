{
 "cells": [
  {
   "cell_type": "markdown",
   "metadata": {},
   "source": [
    "# PART 1 - Exploratory Data Analysis"
   ]
  },
  {
   "cell_type": "code",
   "execution_count": 1,
   "metadata": {},
   "outputs": [],
   "source": [
    "import json\n",
    "import pandas as pd"
   ]
  },
  {
   "cell_type": "code",
   "execution_count": 2,
   "metadata": {},
   "outputs": [],
   "source": [
    "# Read in the json file\n",
    "data = pd.read_json(\"logins.json\")"
   ]
  },
  {
   "cell_type": "code",
   "execution_count": 3,
   "metadata": {},
   "outputs": [
    {
     "name": "stdout",
     "output_type": "stream",
     "text": [
      "<class 'pandas.core.frame.DataFrame'>\n",
      "RangeIndex: 93142 entries, 0 to 93141\n",
      "Data columns (total 1 columns):\n",
      " #   Column      Non-Null Count  Dtype         \n",
      "---  ------      --------------  -----         \n",
      " 0   login_time  93142 non-null  datetime64[ns]\n",
      "dtypes: datetime64[ns](1)\n",
      "memory usage: 727.8 KB\n"
     ]
    }
   ],
   "source": [
    "data.info()"
   ]
  },
  {
   "cell_type": "code",
   "execution_count": 4,
   "metadata": {},
   "outputs": [
    {
     "name": "stdout",
     "output_type": "stream",
     "text": [
      "           login_time\n",
      "0 1970-01-01 20:13:18\n",
      "1 1970-01-01 20:16:10\n",
      "2 1970-01-01 20:16:37\n",
      "3 1970-01-01 20:16:36\n",
      "4 1970-01-01 20:26:21\n"
     ]
    }
   ],
   "source": [
    "print(data.head())"
   ]
  },
  {
   "cell_type": "code",
   "execution_count": 5,
   "metadata": {},
   "outputs": [],
   "source": [
    "# Sort the data for ascending time\n",
    "data_sorted = data.sort_values(by=['login_time'])"
   ]
  },
  {
   "cell_type": "code",
   "execution_count": 6,
   "metadata": {},
   "outputs": [
    {
     "name": "stdout",
     "output_type": "stream",
     "text": [
      "           login_time\n",
      "6 1970-01-01 20:12:16\n",
      "0 1970-01-01 20:13:18\n",
      "1 1970-01-01 20:16:10\n",
      "3 1970-01-01 20:16:36\n",
      "2 1970-01-01 20:16:37\n"
     ]
    }
   ],
   "source": [
    "print(data_sorted.head())"
   ]
  },
  {
   "cell_type": "code",
   "execution_count": 7,
   "metadata": {},
   "outputs": [],
   "source": [
    "# reset the index and drop the old index\n",
    "data_sorted.reset_index(inplace=True, drop=True)"
   ]
  },
  {
   "cell_type": "code",
   "execution_count": 8,
   "metadata": {},
   "outputs": [
    {
     "name": "stdout",
     "output_type": "stream",
     "text": [
      "           login_time\n",
      "0 1970-01-01 20:12:16\n",
      "1 1970-01-01 20:13:18\n",
      "2 1970-01-01 20:16:10\n",
      "3 1970-01-01 20:16:36\n",
      "4 1970-01-01 20:16:37\n"
     ]
    }
   ],
   "source": [
    "print(data_sorted.head())"
   ]
  },
  {
   "cell_type": "code",
   "execution_count": 9,
   "metadata": {},
   "outputs": [],
   "source": [
    "# Set the login_time as index to do resampling later and add a column count as 1 to aggregate on something\n",
    "data_sorted.set_index('login_time', inplace=True)"
   ]
  },
  {
   "cell_type": "code",
   "execution_count": 10,
   "metadata": {},
   "outputs": [],
   "source": [
    "data_sorted['count'] = 1"
   ]
  },
  {
   "cell_type": "code",
   "execution_count": 11,
   "metadata": {},
   "outputs": [],
   "source": [
    "# resample for 15 min intervals\n",
    "data_count = data_sorted.resample('15T').sum()"
   ]
  },
  {
   "cell_type": "code",
   "execution_count": 12,
   "metadata": {},
   "outputs": [
    {
     "data": {
      "text/html": [
       "<div>\n",
       "<style scoped>\n",
       "    .dataframe tbody tr th:only-of-type {\n",
       "        vertical-align: middle;\n",
       "    }\n",
       "\n",
       "    .dataframe tbody tr th {\n",
       "        vertical-align: top;\n",
       "    }\n",
       "\n",
       "    .dataframe thead th {\n",
       "        text-align: right;\n",
       "    }\n",
       "</style>\n",
       "<table border=\"1\" class=\"dataframe\">\n",
       "  <thead>\n",
       "    <tr style=\"text-align: right;\">\n",
       "      <th></th>\n",
       "      <th>count</th>\n",
       "    </tr>\n",
       "    <tr>\n",
       "      <th>login_time</th>\n",
       "      <th></th>\n",
       "    </tr>\n",
       "  </thead>\n",
       "  <tbody>\n",
       "    <tr>\n",
       "      <th>1970-01-01 20:00:00</th>\n",
       "      <td>2</td>\n",
       "    </tr>\n",
       "    <tr>\n",
       "      <th>1970-01-01 20:15:00</th>\n",
       "      <td>6</td>\n",
       "    </tr>\n",
       "    <tr>\n",
       "      <th>1970-01-01 20:30:00</th>\n",
       "      <td>9</td>\n",
       "    </tr>\n",
       "    <tr>\n",
       "      <th>1970-01-01 20:45:00</th>\n",
       "      <td>7</td>\n",
       "    </tr>\n",
       "    <tr>\n",
       "      <th>1970-01-01 21:00:00</th>\n",
       "      <td>1</td>\n",
       "    </tr>\n",
       "    <tr>\n",
       "      <th>...</th>\n",
       "      <td>...</td>\n",
       "    </tr>\n",
       "    <tr>\n",
       "      <th>1970-04-13 17:45:00</th>\n",
       "      <td>5</td>\n",
       "    </tr>\n",
       "    <tr>\n",
       "      <th>1970-04-13 18:00:00</th>\n",
       "      <td>5</td>\n",
       "    </tr>\n",
       "    <tr>\n",
       "      <th>1970-04-13 18:15:00</th>\n",
       "      <td>2</td>\n",
       "    </tr>\n",
       "    <tr>\n",
       "      <th>1970-04-13 18:30:00</th>\n",
       "      <td>7</td>\n",
       "    </tr>\n",
       "    <tr>\n",
       "      <th>1970-04-13 18:45:00</th>\n",
       "      <td>6</td>\n",
       "    </tr>\n",
       "  </tbody>\n",
       "</table>\n",
       "<p>9788 rows × 1 columns</p>\n",
       "</div>"
      ],
      "text/plain": [
       "                     count\n",
       "login_time                \n",
       "1970-01-01 20:00:00      2\n",
       "1970-01-01 20:15:00      6\n",
       "1970-01-01 20:30:00      9\n",
       "1970-01-01 20:45:00      7\n",
       "1970-01-01 21:00:00      1\n",
       "...                    ...\n",
       "1970-04-13 17:45:00      5\n",
       "1970-04-13 18:00:00      5\n",
       "1970-04-13 18:15:00      2\n",
       "1970-04-13 18:30:00      7\n",
       "1970-04-13 18:45:00      6\n",
       "\n",
       "[9788 rows x 1 columns]"
      ]
     },
     "execution_count": 12,
     "metadata": {},
     "output_type": "execute_result"
    }
   ],
   "source": [
    "data_count"
   ]
  },
  {
   "cell_type": "code",
   "execution_count": 13,
   "metadata": {},
   "outputs": [],
   "source": [
    "# reset index\n",
    "data_count.reset_index(inplace=True)"
   ]
  },
  {
   "cell_type": "code",
   "execution_count": 14,
   "metadata": {},
   "outputs": [
    {
     "data": {
      "text/html": [
       "<div>\n",
       "<style scoped>\n",
       "    .dataframe tbody tr th:only-of-type {\n",
       "        vertical-align: middle;\n",
       "    }\n",
       "\n",
       "    .dataframe tbody tr th {\n",
       "        vertical-align: top;\n",
       "    }\n",
       "\n",
       "    .dataframe thead th {\n",
       "        text-align: right;\n",
       "    }\n",
       "</style>\n",
       "<table border=\"1\" class=\"dataframe\">\n",
       "  <thead>\n",
       "    <tr style=\"text-align: right;\">\n",
       "      <th></th>\n",
       "      <th>login_time</th>\n",
       "      <th>count</th>\n",
       "    </tr>\n",
       "  </thead>\n",
       "  <tbody>\n",
       "    <tr>\n",
       "      <th>0</th>\n",
       "      <td>1970-01-01 20:00:00</td>\n",
       "      <td>2</td>\n",
       "    </tr>\n",
       "    <tr>\n",
       "      <th>1</th>\n",
       "      <td>1970-01-01 20:15:00</td>\n",
       "      <td>6</td>\n",
       "    </tr>\n",
       "    <tr>\n",
       "      <th>2</th>\n",
       "      <td>1970-01-01 20:30:00</td>\n",
       "      <td>9</td>\n",
       "    </tr>\n",
       "    <tr>\n",
       "      <th>3</th>\n",
       "      <td>1970-01-01 20:45:00</td>\n",
       "      <td>7</td>\n",
       "    </tr>\n",
       "    <tr>\n",
       "      <th>4</th>\n",
       "      <td>1970-01-01 21:00:00</td>\n",
       "      <td>1</td>\n",
       "    </tr>\n",
       "  </tbody>\n",
       "</table>\n",
       "</div>"
      ],
      "text/plain": [
       "           login_time  count\n",
       "0 1970-01-01 20:00:00      2\n",
       "1 1970-01-01 20:15:00      6\n",
       "2 1970-01-01 20:30:00      9\n",
       "3 1970-01-01 20:45:00      7\n",
       "4 1970-01-01 21:00:00      1"
      ]
     },
     "execution_count": 14,
     "metadata": {},
     "output_type": "execute_result"
    }
   ],
   "source": [
    "data_count.head()"
   ]
  },
  {
   "cell_type": "markdown",
   "metadata": {},
   "source": [
    "We can add two new columns showing the 'hour' and the 'day' of the week to this dataset so that we can do further analysis of the pattern of the counts."
   ]
  },
  {
   "cell_type": "code",
   "execution_count": 15,
   "metadata": {},
   "outputs": [],
   "source": [
    "# Add 2 columns showing just the hour and the day\n",
    "data_count[\"hour\"] = data_count[\"login_time\"].dt.hour\n",
    "data_count[\"day\"] = data_count[\"login_time\"].dt.day_name()"
   ]
  },
  {
   "cell_type": "code",
   "execution_count": 16,
   "metadata": {},
   "outputs": [
    {
     "data": {
      "text/html": [
       "<div>\n",
       "<style scoped>\n",
       "    .dataframe tbody tr th:only-of-type {\n",
       "        vertical-align: middle;\n",
       "    }\n",
       "\n",
       "    .dataframe tbody tr th {\n",
       "        vertical-align: top;\n",
       "    }\n",
       "\n",
       "    .dataframe thead th {\n",
       "        text-align: right;\n",
       "    }\n",
       "</style>\n",
       "<table border=\"1\" class=\"dataframe\">\n",
       "  <thead>\n",
       "    <tr style=\"text-align: right;\">\n",
       "      <th></th>\n",
       "      <th>login_time</th>\n",
       "      <th>count</th>\n",
       "      <th>hour</th>\n",
       "      <th>day</th>\n",
       "    </tr>\n",
       "  </thead>\n",
       "  <tbody>\n",
       "    <tr>\n",
       "      <th>0</th>\n",
       "      <td>1970-01-01 20:00:00</td>\n",
       "      <td>2</td>\n",
       "      <td>20</td>\n",
       "      <td>Thursday</td>\n",
       "    </tr>\n",
       "    <tr>\n",
       "      <th>1</th>\n",
       "      <td>1970-01-01 20:15:00</td>\n",
       "      <td>6</td>\n",
       "      <td>20</td>\n",
       "      <td>Thursday</td>\n",
       "    </tr>\n",
       "    <tr>\n",
       "      <th>2</th>\n",
       "      <td>1970-01-01 20:30:00</td>\n",
       "      <td>9</td>\n",
       "      <td>20</td>\n",
       "      <td>Thursday</td>\n",
       "    </tr>\n",
       "    <tr>\n",
       "      <th>3</th>\n",
       "      <td>1970-01-01 20:45:00</td>\n",
       "      <td>7</td>\n",
       "      <td>20</td>\n",
       "      <td>Thursday</td>\n",
       "    </tr>\n",
       "    <tr>\n",
       "      <th>4</th>\n",
       "      <td>1970-01-01 21:00:00</td>\n",
       "      <td>1</td>\n",
       "      <td>21</td>\n",
       "      <td>Thursday</td>\n",
       "    </tr>\n",
       "    <tr>\n",
       "      <th>...</th>\n",
       "      <td>...</td>\n",
       "      <td>...</td>\n",
       "      <td>...</td>\n",
       "      <td>...</td>\n",
       "    </tr>\n",
       "    <tr>\n",
       "      <th>9783</th>\n",
       "      <td>1970-04-13 17:45:00</td>\n",
       "      <td>5</td>\n",
       "      <td>17</td>\n",
       "      <td>Monday</td>\n",
       "    </tr>\n",
       "    <tr>\n",
       "      <th>9784</th>\n",
       "      <td>1970-04-13 18:00:00</td>\n",
       "      <td>5</td>\n",
       "      <td>18</td>\n",
       "      <td>Monday</td>\n",
       "    </tr>\n",
       "    <tr>\n",
       "      <th>9785</th>\n",
       "      <td>1970-04-13 18:15:00</td>\n",
       "      <td>2</td>\n",
       "      <td>18</td>\n",
       "      <td>Monday</td>\n",
       "    </tr>\n",
       "    <tr>\n",
       "      <th>9786</th>\n",
       "      <td>1970-04-13 18:30:00</td>\n",
       "      <td>7</td>\n",
       "      <td>18</td>\n",
       "      <td>Monday</td>\n",
       "    </tr>\n",
       "    <tr>\n",
       "      <th>9787</th>\n",
       "      <td>1970-04-13 18:45:00</td>\n",
       "      <td>6</td>\n",
       "      <td>18</td>\n",
       "      <td>Monday</td>\n",
       "    </tr>\n",
       "  </tbody>\n",
       "</table>\n",
       "<p>9788 rows × 4 columns</p>\n",
       "</div>"
      ],
      "text/plain": [
       "              login_time  count  hour       day\n",
       "0    1970-01-01 20:00:00      2    20  Thursday\n",
       "1    1970-01-01 20:15:00      6    20  Thursday\n",
       "2    1970-01-01 20:30:00      9    20  Thursday\n",
       "3    1970-01-01 20:45:00      7    20  Thursday\n",
       "4    1970-01-01 21:00:00      1    21  Thursday\n",
       "...                  ...    ...   ...       ...\n",
       "9783 1970-04-13 17:45:00      5    17    Monday\n",
       "9784 1970-04-13 18:00:00      5    18    Monday\n",
       "9785 1970-04-13 18:15:00      2    18    Monday\n",
       "9786 1970-04-13 18:30:00      7    18    Monday\n",
       "9787 1970-04-13 18:45:00      6    18    Monday\n",
       "\n",
       "[9788 rows x 4 columns]"
      ]
     },
     "execution_count": 16,
     "metadata": {},
     "output_type": "execute_result"
    }
   ],
   "source": [
    "data_count"
   ]
  },
  {
   "cell_type": "markdown",
   "metadata": {},
   "source": [
    "We can find out the total counts and average counts based on the day of the week. For this, we can create a new dataframe, data_daily."
   ]
  },
  {
   "cell_type": "code",
   "execution_count": 17,
   "metadata": {},
   "outputs": [],
   "source": [
    "# groupby the day and sum the counts to a new df data_daily and to get it in the correct order instead of alphabetical \n",
    "# pass the correcct order for indexing\n",
    "\n",
    "cats = ['Monday','Tuesday','Wednesday','Thursday','Friday','Saturday','Sunday']\n",
    "data_daily = data_count.groupby(['day'])[['count']].sum().reindex(cats) "
   ]
  },
  {
   "cell_type": "code",
   "execution_count": 18,
   "metadata": {},
   "outputs": [],
   "source": [
    "# add a column for average in data_daily\n",
    "\n",
    "data_daily[\"daily_avg\"] = data_count.groupby(\"day\")[['count']].mean()"
   ]
  },
  {
   "cell_type": "code",
   "execution_count": 19,
   "metadata": {},
   "outputs": [
    {
     "data": {
      "text/html": [
       "<div>\n",
       "<style scoped>\n",
       "    .dataframe tbody tr th:only-of-type {\n",
       "        vertical-align: middle;\n",
       "    }\n",
       "\n",
       "    .dataframe tbody tr th {\n",
       "        vertical-align: top;\n",
       "    }\n",
       "\n",
       "    .dataframe thead th {\n",
       "        text-align: right;\n",
       "    }\n",
       "</style>\n",
       "<table border=\"1\" class=\"dataframe\">\n",
       "  <thead>\n",
       "    <tr style=\"text-align: right;\">\n",
       "      <th></th>\n",
       "      <th>count</th>\n",
       "      <th>daily_avg</th>\n",
       "    </tr>\n",
       "    <tr>\n",
       "      <th>day</th>\n",
       "      <th></th>\n",
       "      <th></th>\n",
       "    </tr>\n",
       "  </thead>\n",
       "  <tbody>\n",
       "    <tr>\n",
       "      <th>Monday</th>\n",
       "      <td>8823</td>\n",
       "      <td>6.213380</td>\n",
       "    </tr>\n",
       "    <tr>\n",
       "      <th>Tuesday</th>\n",
       "      <td>9268</td>\n",
       "      <td>6.895833</td>\n",
       "    </tr>\n",
       "    <tr>\n",
       "      <th>Wednesday</th>\n",
       "      <td>10339</td>\n",
       "      <td>7.692708</td>\n",
       "    </tr>\n",
       "    <tr>\n",
       "      <th>Thursday</th>\n",
       "      <td>11960</td>\n",
       "      <td>8.794118</td>\n",
       "    </tr>\n",
       "    <tr>\n",
       "      <th>Friday</th>\n",
       "      <td>15208</td>\n",
       "      <td>10.561111</td>\n",
       "    </tr>\n",
       "    <tr>\n",
       "      <th>Saturday</th>\n",
       "      <td>19377</td>\n",
       "      <td>13.456250</td>\n",
       "    </tr>\n",
       "    <tr>\n",
       "      <th>Sunday</th>\n",
       "      <td>18167</td>\n",
       "      <td>12.615972</td>\n",
       "    </tr>\n",
       "  </tbody>\n",
       "</table>\n",
       "</div>"
      ],
      "text/plain": [
       "           count  daily_avg\n",
       "day                        \n",
       "Monday      8823   6.213380\n",
       "Tuesday     9268   6.895833\n",
       "Wednesday  10339   7.692708\n",
       "Thursday   11960   8.794118\n",
       "Friday     15208  10.561111\n",
       "Saturday   19377  13.456250\n",
       "Sunday     18167  12.615972"
      ]
     },
     "execution_count": 19,
     "metadata": {},
     "output_type": "execute_result"
    }
   ],
   "source": [
    "data_daily "
   ]
  },
  {
   "cell_type": "markdown",
   "metadata": {},
   "source": [
    "We can create another dataframe data_hour to show the average counts on different hours of the day."
   ]
  },
  {
   "cell_type": "code",
   "execution_count": 20,
   "metadata": {},
   "outputs": [],
   "source": [
    "# Groupby hour and get the mean counts in a new df data_hour\n",
    "\n",
    "data_hour = data_count.groupby(\"hour\")[['count']].mean()"
   ]
  },
  {
   "cell_type": "code",
   "execution_count": 21,
   "metadata": {},
   "outputs": [
    {
     "data": {
      "text/html": [
       "<div>\n",
       "<style scoped>\n",
       "    .dataframe tbody tr th:only-of-type {\n",
       "        vertical-align: middle;\n",
       "    }\n",
       "\n",
       "    .dataframe tbody tr th {\n",
       "        vertical-align: top;\n",
       "    }\n",
       "\n",
       "    .dataframe thead th {\n",
       "        text-align: right;\n",
       "    }\n",
       "</style>\n",
       "<table border=\"1\" class=\"dataframe\">\n",
       "  <thead>\n",
       "    <tr style=\"text-align: right;\">\n",
       "      <th></th>\n",
       "      <th>count</th>\n",
       "    </tr>\n",
       "    <tr>\n",
       "      <th>hour</th>\n",
       "      <th></th>\n",
       "    </tr>\n",
       "  </thead>\n",
       "  <tbody>\n",
       "    <tr>\n",
       "      <th>0</th>\n",
       "      <td>14.688725</td>\n",
       "    </tr>\n",
       "    <tr>\n",
       "      <th>1</th>\n",
       "      <td>15.482843</td>\n",
       "    </tr>\n",
       "    <tr>\n",
       "      <th>2</th>\n",
       "      <td>14.215686</td>\n",
       "    </tr>\n",
       "    <tr>\n",
       "      <th>3</th>\n",
       "      <td>11.840686</td>\n",
       "    </tr>\n",
       "    <tr>\n",
       "      <th>4</th>\n",
       "      <td>12.338235</td>\n",
       "    </tr>\n",
       "    <tr>\n",
       "      <th>5</th>\n",
       "      <td>7.218137</td>\n",
       "    </tr>\n",
       "    <tr>\n",
       "      <th>6</th>\n",
       "      <td>2.789216</td>\n",
       "    </tr>\n",
       "    <tr>\n",
       "      <th>7</th>\n",
       "      <td>1.997549</td>\n",
       "    </tr>\n",
       "    <tr>\n",
       "      <th>8</th>\n",
       "      <td>2.004902</td>\n",
       "    </tr>\n",
       "    <tr>\n",
       "      <th>9</th>\n",
       "      <td>3.742647</td>\n",
       "    </tr>\n",
       "    <tr>\n",
       "      <th>10</th>\n",
       "      <td>7.509804</td>\n",
       "    </tr>\n",
       "    <tr>\n",
       "      <th>11</th>\n",
       "      <td>14.213235</td>\n",
       "    </tr>\n",
       "    <tr>\n",
       "      <th>12</th>\n",
       "      <td>12.166667</td>\n",
       "    </tr>\n",
       "    <tr>\n",
       "      <th>13</th>\n",
       "      <td>8.850490</td>\n",
       "    </tr>\n",
       "    <tr>\n",
       "      <th>14</th>\n",
       "      <td>8.397059</td>\n",
       "    </tr>\n",
       "    <tr>\n",
       "      <th>15</th>\n",
       "      <td>7.446078</td>\n",
       "    </tr>\n",
       "    <tr>\n",
       "      <th>16</th>\n",
       "      <td>6.941176</td>\n",
       "    </tr>\n",
       "    <tr>\n",
       "      <th>17</th>\n",
       "      <td>6.333333</td>\n",
       "    </tr>\n",
       "    <tr>\n",
       "      <th>18</th>\n",
       "      <td>7.303922</td>\n",
       "    </tr>\n",
       "    <tr>\n",
       "      <th>19</th>\n",
       "      <td>8.007426</td>\n",
       "    </tr>\n",
       "    <tr>\n",
       "      <th>20</th>\n",
       "      <td>10.056373</td>\n",
       "    </tr>\n",
       "    <tr>\n",
       "      <th>21</th>\n",
       "      <td>13.781863</td>\n",
       "    </tr>\n",
       "    <tr>\n",
       "      <th>22</th>\n",
       "      <td>16.193627</td>\n",
       "    </tr>\n",
       "    <tr>\n",
       "      <th>23</th>\n",
       "      <td>14.848039</td>\n",
       "    </tr>\n",
       "  </tbody>\n",
       "</table>\n",
       "</div>"
      ],
      "text/plain": [
       "          count\n",
       "hour           \n",
       "0     14.688725\n",
       "1     15.482843\n",
       "2     14.215686\n",
       "3     11.840686\n",
       "4     12.338235\n",
       "5      7.218137\n",
       "6      2.789216\n",
       "7      1.997549\n",
       "8      2.004902\n",
       "9      3.742647\n",
       "10     7.509804\n",
       "11    14.213235\n",
       "12    12.166667\n",
       "13     8.850490\n",
       "14     8.397059\n",
       "15     7.446078\n",
       "16     6.941176\n",
       "17     6.333333\n",
       "18     7.303922\n",
       "19     8.007426\n",
       "20    10.056373\n",
       "21    13.781863\n",
       "22    16.193627\n",
       "23    14.848039"
      ]
     },
     "execution_count": 21,
     "metadata": {},
     "output_type": "execute_result"
    }
   ],
   "source": [
    "data_hour"
   ]
  },
  {
   "cell_type": "markdown",
   "metadata": {},
   "source": [
    "We can also add another column in the data_count for showing if the login happened during the day or night. For this distinction, instead of taking the 12 hr cycle or 0-12 as AM and 12-24 as PM, I took 7-20 as 'D' for day (7 am to 7 pm) and 7pm to 7 am as 'N' for night."
   ]
  },
  {
   "cell_type": "code",
   "execution_count": 22,
   "metadata": {},
   "outputs": [],
   "source": [
    "# add a column for day/night distinction based on 7 am to 7 pm as day\n",
    "\n",
    "day_night = lambda row: \"D\" if row in range(7,20) else \"N\"\n",
    "data_count[\"day/night\"] = data_count[\"hour\"].apply(day_night)"
   ]
  },
  {
   "cell_type": "code",
   "execution_count": 23,
   "metadata": {},
   "outputs": [
    {
     "data": {
      "text/html": [
       "<div>\n",
       "<style scoped>\n",
       "    .dataframe tbody tr th:only-of-type {\n",
       "        vertical-align: middle;\n",
       "    }\n",
       "\n",
       "    .dataframe tbody tr th {\n",
       "        vertical-align: top;\n",
       "    }\n",
       "\n",
       "    .dataframe thead th {\n",
       "        text-align: right;\n",
       "    }\n",
       "</style>\n",
       "<table border=\"1\" class=\"dataframe\">\n",
       "  <thead>\n",
       "    <tr style=\"text-align: right;\">\n",
       "      <th></th>\n",
       "      <th>login_time</th>\n",
       "      <th>count</th>\n",
       "      <th>hour</th>\n",
       "      <th>day</th>\n",
       "      <th>day/night</th>\n",
       "    </tr>\n",
       "  </thead>\n",
       "  <tbody>\n",
       "    <tr>\n",
       "      <th>0</th>\n",
       "      <td>1970-01-01 20:00:00</td>\n",
       "      <td>2</td>\n",
       "      <td>20</td>\n",
       "      <td>Thursday</td>\n",
       "      <td>N</td>\n",
       "    </tr>\n",
       "    <tr>\n",
       "      <th>1</th>\n",
       "      <td>1970-01-01 20:15:00</td>\n",
       "      <td>6</td>\n",
       "      <td>20</td>\n",
       "      <td>Thursday</td>\n",
       "      <td>N</td>\n",
       "    </tr>\n",
       "    <tr>\n",
       "      <th>2</th>\n",
       "      <td>1970-01-01 20:30:00</td>\n",
       "      <td>9</td>\n",
       "      <td>20</td>\n",
       "      <td>Thursday</td>\n",
       "      <td>N</td>\n",
       "    </tr>\n",
       "    <tr>\n",
       "      <th>3</th>\n",
       "      <td>1970-01-01 20:45:00</td>\n",
       "      <td>7</td>\n",
       "      <td>20</td>\n",
       "      <td>Thursday</td>\n",
       "      <td>N</td>\n",
       "    </tr>\n",
       "    <tr>\n",
       "      <th>4</th>\n",
       "      <td>1970-01-01 21:00:00</td>\n",
       "      <td>1</td>\n",
       "      <td>21</td>\n",
       "      <td>Thursday</td>\n",
       "      <td>N</td>\n",
       "    </tr>\n",
       "    <tr>\n",
       "      <th>...</th>\n",
       "      <td>...</td>\n",
       "      <td>...</td>\n",
       "      <td>...</td>\n",
       "      <td>...</td>\n",
       "      <td>...</td>\n",
       "    </tr>\n",
       "    <tr>\n",
       "      <th>9783</th>\n",
       "      <td>1970-04-13 17:45:00</td>\n",
       "      <td>5</td>\n",
       "      <td>17</td>\n",
       "      <td>Monday</td>\n",
       "      <td>D</td>\n",
       "    </tr>\n",
       "    <tr>\n",
       "      <th>9784</th>\n",
       "      <td>1970-04-13 18:00:00</td>\n",
       "      <td>5</td>\n",
       "      <td>18</td>\n",
       "      <td>Monday</td>\n",
       "      <td>D</td>\n",
       "    </tr>\n",
       "    <tr>\n",
       "      <th>9785</th>\n",
       "      <td>1970-04-13 18:15:00</td>\n",
       "      <td>2</td>\n",
       "      <td>18</td>\n",
       "      <td>Monday</td>\n",
       "      <td>D</td>\n",
       "    </tr>\n",
       "    <tr>\n",
       "      <th>9786</th>\n",
       "      <td>1970-04-13 18:30:00</td>\n",
       "      <td>7</td>\n",
       "      <td>18</td>\n",
       "      <td>Monday</td>\n",
       "      <td>D</td>\n",
       "    </tr>\n",
       "    <tr>\n",
       "      <th>9787</th>\n",
       "      <td>1970-04-13 18:45:00</td>\n",
       "      <td>6</td>\n",
       "      <td>18</td>\n",
       "      <td>Monday</td>\n",
       "      <td>D</td>\n",
       "    </tr>\n",
       "  </tbody>\n",
       "</table>\n",
       "<p>9788 rows × 5 columns</p>\n",
       "</div>"
      ],
      "text/plain": [
       "              login_time  count  hour       day day/night\n",
       "0    1970-01-01 20:00:00      2    20  Thursday         N\n",
       "1    1970-01-01 20:15:00      6    20  Thursday         N\n",
       "2    1970-01-01 20:30:00      9    20  Thursday         N\n",
       "3    1970-01-01 20:45:00      7    20  Thursday         N\n",
       "4    1970-01-01 21:00:00      1    21  Thursday         N\n",
       "...                  ...    ...   ...       ...       ...\n",
       "9783 1970-04-13 17:45:00      5    17    Monday         D\n",
       "9784 1970-04-13 18:00:00      5    18    Monday         D\n",
       "9785 1970-04-13 18:15:00      2    18    Monday         D\n",
       "9786 1970-04-13 18:30:00      7    18    Monday         D\n",
       "9787 1970-04-13 18:45:00      6    18    Monday         D\n",
       "\n",
       "[9788 rows x 5 columns]"
      ]
     },
     "execution_count": 23,
     "metadata": {},
     "output_type": "execute_result"
    }
   ],
   "source": [
    "data_count"
   ]
  },
  {
   "cell_type": "markdown",
   "metadata": {},
   "source": [
    "We can create another dataframe, data_DN grouping by day and day/night to see the sum and average of the counts. This tells us of not just patterns for different days but also during day or night."
   ]
  },
  {
   "cell_type": "code",
   "execution_count": 24,
   "metadata": {},
   "outputs": [],
   "source": [
    "# groupby day and day/night and do sum and mean of counts to add the resp columns\n",
    "\n",
    "data_DN = data_count.groupby(['day','day/night'])[['count']].sum()"
   ]
  },
  {
   "cell_type": "code",
   "execution_count": 25,
   "metadata": {},
   "outputs": [],
   "source": [
    "data_DN['avg'] = data_count.groupby(['day','day/night'])[['count']].mean()"
   ]
  },
  {
   "cell_type": "code",
   "execution_count": 26,
   "metadata": {},
   "outputs": [
    {
     "data": {
      "text/html": [
       "<div>\n",
       "<style scoped>\n",
       "    .dataframe tbody tr th:only-of-type {\n",
       "        vertical-align: middle;\n",
       "    }\n",
       "\n",
       "    .dataframe tbody tr th {\n",
       "        vertical-align: top;\n",
       "    }\n",
       "\n",
       "    .dataframe thead th {\n",
       "        text-align: right;\n",
       "    }\n",
       "</style>\n",
       "<table border=\"1\" class=\"dataframe\">\n",
       "  <thead>\n",
       "    <tr style=\"text-align: right;\">\n",
       "      <th></th>\n",
       "      <th></th>\n",
       "      <th>count</th>\n",
       "      <th>avg</th>\n",
       "    </tr>\n",
       "    <tr>\n",
       "      <th>day</th>\n",
       "      <th>day/night</th>\n",
       "      <th></th>\n",
       "      <th></th>\n",
       "    </tr>\n",
       "  </thead>\n",
       "  <tbody>\n",
       "    <tr>\n",
       "      <th rowspan=\"2\" valign=\"top\">Friday</th>\n",
       "      <th>D</th>\n",
       "      <td>6458</td>\n",
       "      <td>8.279487</td>\n",
       "    </tr>\n",
       "    <tr>\n",
       "      <th>N</th>\n",
       "      <td>8750</td>\n",
       "      <td>13.257576</td>\n",
       "    </tr>\n",
       "    <tr>\n",
       "      <th rowspan=\"2\" valign=\"top\">Monday</th>\n",
       "      <th>D</th>\n",
       "      <td>4813</td>\n",
       "      <td>6.202320</td>\n",
       "    </tr>\n",
       "    <tr>\n",
       "      <th>N</th>\n",
       "      <td>4010</td>\n",
       "      <td>6.226708</td>\n",
       "    </tr>\n",
       "    <tr>\n",
       "      <th rowspan=\"2\" valign=\"top\">Saturday</th>\n",
       "      <th>D</th>\n",
       "      <td>6415</td>\n",
       "      <td>8.224359</td>\n",
       "    </tr>\n",
       "    <tr>\n",
       "      <th>N</th>\n",
       "      <td>12962</td>\n",
       "      <td>19.639394</td>\n",
       "    </tr>\n",
       "    <tr>\n",
       "      <th rowspan=\"2\" valign=\"top\">Sunday</th>\n",
       "      <th>D</th>\n",
       "      <td>6466</td>\n",
       "      <td>8.289744</td>\n",
       "    </tr>\n",
       "    <tr>\n",
       "      <th>N</th>\n",
       "      <td>11701</td>\n",
       "      <td>17.728788</td>\n",
       "    </tr>\n",
       "    <tr>\n",
       "      <th rowspan=\"2\" valign=\"top\">Thursday</th>\n",
       "      <th>D</th>\n",
       "      <td>5295</td>\n",
       "      <td>7.273352</td>\n",
       "    </tr>\n",
       "    <tr>\n",
       "      <th>N</th>\n",
       "      <td>6665</td>\n",
       "      <td>10.545886</td>\n",
       "    </tr>\n",
       "    <tr>\n",
       "      <th rowspan=\"2\" valign=\"top\">Tuesday</th>\n",
       "      <th>D</th>\n",
       "      <td>4521</td>\n",
       "      <td>6.210165</td>\n",
       "    </tr>\n",
       "    <tr>\n",
       "      <th>N</th>\n",
       "      <td>4747</td>\n",
       "      <td>7.706169</td>\n",
       "    </tr>\n",
       "    <tr>\n",
       "      <th rowspan=\"2\" valign=\"top\">Wednesday</th>\n",
       "      <th>D</th>\n",
       "      <td>4725</td>\n",
       "      <td>6.490385</td>\n",
       "    </tr>\n",
       "    <tr>\n",
       "      <th>N</th>\n",
       "      <td>5614</td>\n",
       "      <td>9.113636</td>\n",
       "    </tr>\n",
       "  </tbody>\n",
       "</table>\n",
       "</div>"
      ],
      "text/plain": [
       "                     count        avg\n",
       "day       day/night                  \n",
       "Friday    D           6458   8.279487\n",
       "          N           8750  13.257576\n",
       "Monday    D           4813   6.202320\n",
       "          N           4010   6.226708\n",
       "Saturday  D           6415   8.224359\n",
       "          N          12962  19.639394\n",
       "Sunday    D           6466   8.289744\n",
       "          N          11701  17.728788\n",
       "Thursday  D           5295   7.273352\n",
       "          N           6665  10.545886\n",
       "Tuesday   D           4521   6.210165\n",
       "          N           4747   7.706169\n",
       "Wednesday D           4725   6.490385\n",
       "          N           5614   9.113636"
      ]
     },
     "execution_count": 26,
     "metadata": {},
     "output_type": "execute_result"
    }
   ],
   "source": [
    "data_DN"
   ]
  },
  {
   "cell_type": "markdown",
   "metadata": {},
   "source": [
    "We now have 3 dataframes, data_daily - grouped on days for total and average counts, data_hour - grouped on hour for average counts and data_DN - gtouped on day and day/night for total and average counts.  We can add one more df data_hd - grouped on hour and day for total counts."
   ]
  },
  {
   "cell_type": "code",
   "execution_count": 27,
   "metadata": {},
   "outputs": [],
   "source": [
    "# groupby hour and then day to get the total counts.\n",
    "\n",
    "data_hd = data_count.groupby(['hour','day'])[['count']].mean().reset_index()"
   ]
  },
  {
   "cell_type": "code",
   "execution_count": 28,
   "metadata": {},
   "outputs": [
    {
     "data": {
      "text/html": [
       "<div>\n",
       "<style scoped>\n",
       "    .dataframe tbody tr th:only-of-type {\n",
       "        vertical-align: middle;\n",
       "    }\n",
       "\n",
       "    .dataframe tbody tr th {\n",
       "        vertical-align: top;\n",
       "    }\n",
       "\n",
       "    .dataframe thead th {\n",
       "        text-align: right;\n",
       "    }\n",
       "</style>\n",
       "<table border=\"1\" class=\"dataframe\">\n",
       "  <thead>\n",
       "    <tr style=\"text-align: right;\">\n",
       "      <th></th>\n",
       "      <th>hour</th>\n",
       "      <th>day</th>\n",
       "      <th>count</th>\n",
       "    </tr>\n",
       "  </thead>\n",
       "  <tbody>\n",
       "    <tr>\n",
       "      <th>0</th>\n",
       "      <td>0</td>\n",
       "      <td>Friday</td>\n",
       "      <td>16.250000</td>\n",
       "    </tr>\n",
       "    <tr>\n",
       "      <th>1</th>\n",
       "      <td>0</td>\n",
       "      <td>Monday</td>\n",
       "      <td>8.850000</td>\n",
       "    </tr>\n",
       "    <tr>\n",
       "      <th>2</th>\n",
       "      <td>0</td>\n",
       "      <td>Saturday</td>\n",
       "      <td>20.900000</td>\n",
       "    </tr>\n",
       "    <tr>\n",
       "      <th>3</th>\n",
       "      <td>0</td>\n",
       "      <td>Sunday</td>\n",
       "      <td>18.716667</td>\n",
       "    </tr>\n",
       "    <tr>\n",
       "      <th>4</th>\n",
       "      <td>0</td>\n",
       "      <td>Thursday</td>\n",
       "      <td>14.571429</td>\n",
       "    </tr>\n",
       "    <tr>\n",
       "      <th>...</th>\n",
       "      <td>...</td>\n",
       "      <td>...</td>\n",
       "      <td>...</td>\n",
       "    </tr>\n",
       "    <tr>\n",
       "      <th>163</th>\n",
       "      <td>23</td>\n",
       "      <td>Saturday</td>\n",
       "      <td>16.766667</td>\n",
       "    </tr>\n",
       "    <tr>\n",
       "      <th>164</th>\n",
       "      <td>23</td>\n",
       "      <td>Sunday</td>\n",
       "      <td>9.283333</td>\n",
       "    </tr>\n",
       "    <tr>\n",
       "      <th>165</th>\n",
       "      <td>23</td>\n",
       "      <td>Thursday</td>\n",
       "      <td>17.216667</td>\n",
       "    </tr>\n",
       "    <tr>\n",
       "      <th>166</th>\n",
       "      <td>23</td>\n",
       "      <td>Tuesday</td>\n",
       "      <td>12.928571</td>\n",
       "    </tr>\n",
       "    <tr>\n",
       "      <th>167</th>\n",
       "      <td>23</td>\n",
       "      <td>Wednesday</td>\n",
       "      <td>16.214286</td>\n",
       "    </tr>\n",
       "  </tbody>\n",
       "</table>\n",
       "<p>168 rows × 3 columns</p>\n",
       "</div>"
      ],
      "text/plain": [
       "     hour        day      count\n",
       "0       0     Friday  16.250000\n",
       "1       0     Monday   8.850000\n",
       "2       0   Saturday  20.900000\n",
       "3       0     Sunday  18.716667\n",
       "4       0   Thursday  14.571429\n",
       "..    ...        ...        ...\n",
       "163    23   Saturday  16.766667\n",
       "164    23     Sunday   9.283333\n",
       "165    23   Thursday  17.216667\n",
       "166    23    Tuesday  12.928571\n",
       "167    23  Wednesday  16.214286\n",
       "\n",
       "[168 rows x 3 columns]"
      ]
     },
     "execution_count": 28,
     "metadata": {},
     "output_type": "execute_result"
    }
   ],
   "source": [
    "data_hd"
   ]
  },
  {
   "cell_type": "markdown",
   "metadata": {},
   "source": [
    "## Visualizations"
   ]
  },
  {
   "cell_type": "code",
   "execution_count": 29,
   "metadata": {},
   "outputs": [],
   "source": [
    "from matplotlib import pyplot as plt\n",
    "%matplotlib inline"
   ]
  },
  {
   "cell_type": "code",
   "execution_count": 30,
   "metadata": {},
   "outputs": [
    {
     "data": {
      "text/plain": [
       "Text(0.5, 1.0, 'Average logins on different days of the week')"
      ]
     },
     "execution_count": 30,
     "metadata": {},
     "output_type": "execute_result"
    },
    {
     "data": {
      "image/png": "[encoded data removed]",
      "text/plain": [
       "<Figure size 576x360 with 1 Axes>"
      ]
     },
     "metadata": {
      "needs_background": "light"
     },
     "output_type": "display_data"
    }
   ],
   "source": [
    "# Plot the average counts for different days of the week\n",
    "\n",
    "fig = plt.figure(figsize=(8,5))\n",
    "plt.plot(data_daily['daily_avg'])\n",
    "plt.xlabel('Days of the week')\n",
    "plt.ylabel('Daily average number of logins')\n",
    "plt.title('Average logins on different days of the week')"
   ]
  },
  {
   "cell_type": "markdown",
   "metadata": {},
   "source": [
    "We see that the average count increases steadily from Monday to the weekend and then comes down. This is probably because closer to a weekend is when people start going out more."
   ]
  },
  {
   "cell_type": "code",
   "execution_count": 31,
   "metadata": {},
   "outputs": [
    {
     "data": {
      "text/plain": [
       "Text(0.5, 1.0, 'Total logins on different hours')"
      ]
     },
     "execution_count": 31,
     "metadata": {},
     "output_type": "execute_result"
    },
    {
     "data": {
      "image/png": "[encoded data removed]",
      "text/plain": [
       "<Figure size 576x360 with 1 Axes>"
      ]
     },
     "metadata": {
      "needs_background": "light"
     },
     "output_type": "display_data"
    }
   ],
   "source": [
    "# Plot the average counts during the different hours in a day\n",
    "\n",
    "fig = plt.figure(figsize=(8,5))\n",
    "plt.plot(data_hour['count'])\n",
    "plt.xlabel('Hours')\n",
    "plt.ylabel('Average logins')\n",
    "plt.title('Total logins on different hours')"
   ]
  },
  {
   "cell_type": "markdown",
   "metadata": {},
   "source": [
    "From 7 am to 6 pm we can see the average logins are generally low with a sharp peak during noon. After 6 pm, it steadily increases till 4 am. This can be explained by work/life pattern in general. "
   ]
  },
  {
   "cell_type": "code",
   "execution_count": 32,
   "metadata": {},
   "outputs": [],
   "source": [
    "import seaborn as sns"
   ]
  },
  {
   "cell_type": "code",
   "execution_count": 33,
   "metadata": {},
   "outputs": [
    {
     "data": {
      "text/plain": [
       "[Text(0.5, 1.0, 'Average Logins per Hour for different days of the week')]"
      ]
     },
     "execution_count": 33,
     "metadata": {},
     "output_type": "execute_result"
    },
    {
     "data": {
      "image/png": "[encoded data removed]",
      "text/plain": [
       "<Figure size 864x504 with 1 Axes>"
      ]
     },
     "metadata": {
      "needs_background": "light"
     },
     "output_type": "display_data"
    }
   ],
   "source": [
    "# plot the average counts for each hour for different days\n",
    "\n",
    "f, axes = plt.subplots(figsize=(12,7))\n",
    "ax = sns.lineplot(x=\"hour\", y=\"count\", data=data_hd, hue=\"day\")\n",
    "ax.legend(loc=\"upper center\")\n",
    "ax.set(title=\"Average Logins per Hour for different days of the week\")"
   ]
  },
  {
   "cell_type": "markdown",
   "metadata": {},
   "source": [
    "This shows the pattern of the logins by day and time. The red and green represent the weekend while the others are weekdays. Weekdays are all similar except for Friday which is blue, the logins increase after noon and is the highest for that night. This is similar to how people behave just before a weekend. Saturday and Sunday, logins are higher than weekdays till 5 am and then falls below weekday levels and then again increases after noon. Both days are pretty similar till evening 5 pm after which Sunday logins come down unlike Saturday logins. This is natural considering that people want to be back home and prepare for the week ahead."
   ]
  },
  {
   "cell_type": "markdown",
   "metadata": {},
   "source": [
    "# Part 2 Experiment and metrics design"
   ]
  },
  {
   "cell_type": "markdown",
   "metadata": {},
   "source": [
    "1) If the drivers were made available in both cities and the toll costs were reimbursed by the company, the key measure of success for this step would be to see an increase in ridership logins to the extent that it more than justifies the cost for tolls. \n",
    "    If increase in ridership shows increased profits that justifies toll payments, it has made an impact. \n",
    "\n",
    "2) A practical experiment to test the effectiveness of the proposed change with respect to the keymeasure of success:\n",
    "\n",
    "    a) I would allocate half the number of drivers in Metropolis and half the number of drivers in Gotham as permissible to serve both cities while the remaining halves will be restricted to their respective cities. So, now we have a control  population (serving their respective city only) and test population (serving both cities). This way the playing field is even because of the complementary circadian rhythms in the two cities.\n",
    "    \n",
    "    b) My null hypothesis for this experiment would be that the proposed change does not bring about any significant change in ridership. Alternative hypothesis would be that the change does significantly increase the ridership. Increase in ridership is considered significant based on the p value. This increase should also be checked further for the company's expense in toll reimbursement.\n",
    "    \n",
    "    c)  If the increase in ridership is significant but not enough to justify the cost in toll reimbursements, the business model has not worked even with the rejection of the null hypothesis. The percentage increase in business should be more than all costs. This percentage increase in business should also give an idea if the full conversion of the drivers will make it worthwhile. The proposed change would really be better studied if we could get data on the ridership volume and the time the trip was made between the two cities.\n",
    "   "
   ]
  },
  {
   "cell_type": "markdown",
   "metadata": {},
   "source": [
    "# Part 3 Predictive Modeling"
   ]
  },
  {
   "cell_type": "code",
   "execution_count": 34,
   "metadata": {},
   "outputs": [],
   "source": [
    "# Read in the json file\n",
    "\n",
    "openfile = open('ultimate_data_challenge.json')\n",
    "jsondata = json.load(openfile)\n",
    "df = pd.DataFrame(jsondata)\n",
    "\n",
    "openfile.close()"
   ]
  },
  {
   "cell_type": "code",
   "execution_count": 35,
   "metadata": {},
   "outputs": [
    {
     "name": "stdout",
     "output_type": "stream",
     "text": [
      "<class 'pandas.core.frame.DataFrame'>\n",
      "RangeIndex: 50000 entries, 0 to 49999\n",
      "Data columns (total 12 columns):\n",
      " #   Column                  Non-Null Count  Dtype  \n",
      "---  ------                  --------------  -----  \n",
      " 0   city                    50000 non-null  object \n",
      " 1   trips_in_first_30_days  50000 non-null  int64  \n",
      " 2   signup_date             50000 non-null  object \n",
      " 3   avg_rating_of_driver    41878 non-null  float64\n",
      " 4   avg_surge               50000 non-null  float64\n",
      " 5   last_trip_date          50000 non-null  object \n",
      " 6   phone                   49604 non-null  object \n",
      " 7   surge_pct               50000 non-null  float64\n",
      " 8   ultimate_black_user     50000 non-null  bool   \n",
      " 9   weekday_pct             50000 non-null  float64\n",
      " 10  avg_dist                50000 non-null  float64\n",
      " 11  avg_rating_by_driver    49799 non-null  float64\n",
      "dtypes: bool(1), float64(6), int64(1), object(4)\n",
      "memory usage: 4.2+ MB\n"
     ]
    }
   ],
   "source": [
    "df.info()"
   ]
  },
  {
   "cell_type": "code",
   "execution_count": 36,
   "metadata": {},
   "outputs": [
    {
     "name": "stdout",
     "output_type": "stream",
     "text": [
      "             city  trips_in_first_30_days signup_date  avg_rating_of_driver  \\\n",
      "0  King's Landing                       4  2014-01-25                   4.7   \n",
      "1         Astapor                       0  2014-01-29                   5.0   \n",
      "2         Astapor                       3  2014-01-06                   4.3   \n",
      "3  King's Landing                       9  2014-01-10                   4.6   \n",
      "4      Winterfell                      14  2014-01-27                   4.4   \n",
      "\n",
      "   avg_surge last_trip_date    phone  surge_pct  ultimate_black_user  \\\n",
      "0       1.10     2014-06-17   iPhone       15.4                 True   \n",
      "1       1.00     2014-05-05  Android        0.0                False   \n",
      "2       1.00     2014-01-07   iPhone        0.0                False   \n",
      "3       1.14     2014-06-29   iPhone       20.0                 True   \n",
      "4       1.19     2014-03-15  Android       11.8                False   \n",
      "\n",
      "   weekday_pct  avg_dist  avg_rating_by_driver  \n",
      "0         46.2      3.67                   5.0  \n",
      "1         50.0      8.26                   5.0  \n",
      "2        100.0      0.77                   5.0  \n",
      "3         80.0      2.36                   4.9  \n",
      "4         82.4      3.13                   4.9  \n"
     ]
    }
   ],
   "source": [
    "print(df.head())"
   ]
  },
  {
   "cell_type": "markdown",
   "metadata": {},
   "source": [
    "### Exploratory data analysis"
   ]
  },
  {
   "cell_type": "markdown",
   "metadata": {},
   "source": [
    "User retention is defined as active if they have taken a trip in the last 30 days before the data was pulled out. We can consider the latest month in the last_trip_date column as the month when data was pulled out. Another column for the user_status is added to the df and is marked 1 for active and 0 for inactive."
   ]
  },
  {
   "cell_type": "code",
   "execution_count": 37,
   "metadata": {},
   "outputs": [],
   "source": [
    "from datetime import datetime as dt"
   ]
  },
  {
   "cell_type": "code",
   "execution_count": 38,
   "metadata": {},
   "outputs": [
    {
     "data": {
      "text/plain": [
       "'2014-06-17'"
      ]
     },
     "execution_count": 38,
     "metadata": {},
     "output_type": "execute_result"
    }
   ],
   "source": [
    "# the dates are strings - need to convert to datetime\n",
    "\n",
    "df['last_trip_date'][0]"
   ]
  },
  {
   "cell_type": "code",
   "execution_count": 39,
   "metadata": {},
   "outputs": [],
   "source": [
    "# converting dates to datetime\n",
    "\n",
    "df['signup_date'] = pd.to_datetime(df['signup_date'])\n",
    "df['last_trip_date'] = pd.to_datetime(df['last_trip_date'])"
   ]
  },
  {
   "cell_type": "markdown",
   "metadata": {},
   "source": [
    "After sorting the last_trip_date, we get the latest entry as 2014-07-01 - so the data was pulled out on July 1st. So, any user entry in June (the sixth month) will be marked as 'active' or 1 and the rest will be 'inactive' or 0."
   ]
  },
  {
   "cell_type": "code",
   "execution_count": 40,
   "metadata": {},
   "outputs": [
    {
     "data": {
      "text/plain": [
       "Timestamp('2014-07-01 00:00:00')"
      ]
     },
     "execution_count": 40,
     "metadata": {},
     "output_type": "execute_result"
    }
   ],
   "source": [
    "# sorted the last_trip_date and got the latest entry ar 2014-07-01 \n",
    "last_trip_sorted = df['last_trip_date'].sort_values(axis=0).reset_index(drop=True)\n",
    "last_trip_sorted[49999]"
   ]
  },
  {
   "cell_type": "code",
   "execution_count": 41,
   "metadata": {},
   "outputs": [],
   "source": [
    "# checked if each entry in last_trip_date is between June 1st and June 30th - the values are added to \n",
    "# a list, is_retained\n",
    "\n",
    "d1 = dt(2014,6,1)\n",
    "d2 = dt(2014,6,30)\n",
    "is_retained = []\n",
    "for i in df['last_trip_date']:\n",
    "    if i > d1 and i < d2:\n",
    "        is_retained.append(1)\n",
    "    else:\n",
    "        is_retained.append(0)"
   ]
  },
  {
   "cell_type": "code",
   "execution_count": 42,
   "metadata": {},
   "outputs": [],
   "source": [
    "# is_retained is added as a column, user_status to the df\n",
    "\n",
    "df['user_status'] = is_retained"
   ]
  },
  {
   "cell_type": "code",
   "execution_count": 43,
   "metadata": {},
   "outputs": [],
   "source": [
    "# total number of active users or retained users \n",
    "\n",
    "retained = df['user_status'].sum()"
   ]
  },
  {
   "cell_type": "code",
   "execution_count": 44,
   "metadata": {},
   "outputs": [
    {
     "name": "stdout",
     "output_type": "stream",
     "text": [
      "Percentage of Users retained is 32.708\n"
     ]
    }
   ],
   "source": [
    "print('Percentage of Users retained is ' + str(retained / len(df['user_status'])*100))"
   ]
  },
  {
   "cell_type": "markdown",
   "metadata": {},
   "source": [
    "Almost 33% of the users are retained. So that means we have a an imbalanced dataset. This should be kept in mind for all further analysis and predictions."
   ]
  },
  {
   "cell_type": "markdown",
   "metadata": {},
   "source": [
    "There is some missing data in the following columns of the dataset - avg_rating_of_driver, avg_rating_by_driver, phone. The missing values of the average ratings of the drivers and by the drivers can be replaced by the mean value of their column. The missing value for phone can be replaced by 'other' in the dataset."
   ]
  },
  {
   "cell_type": "code",
   "execution_count": 45,
   "metadata": {},
   "outputs": [
    {
     "name": "stdout",
     "output_type": "stream",
     "text": [
      "No. of null values in avg_rating_of_driver: 8122\n",
      "No. of null values in avg_rating_by_driver: 201\n",
      "No. of null values in phone: 396\n"
     ]
    }
   ],
   "source": [
    "# number os missing values in the 3 columns\n",
    "\n",
    "print('No. of null values in avg_rating_of_driver: ' +str(df['avg_rating_of_driver'].isna().sum()))\n",
    "print('No. of null values in avg_rating_by_driver: ' +str(df['avg_rating_by_driver'].isna().sum()))\n",
    "print('No. of null values in phone: ' +str(df['phone'].isna().sum()))"
   ]
  },
  {
   "cell_type": "code",
   "execution_count": 46,
   "metadata": {},
   "outputs": [
    {
     "name": "stderr",
     "output_type": "stream",
     "text": [
      "C:\\Users\\Harsh\\Anaconda3\\lib\\site-packages\\ipykernel_launcher.py:3: FutureWarning: DataFrame.mean and DataFrame.median with numeric_only=None will include datetime64 and datetime64tz columns in a future version.\n",
      "  This is separate from the ipykernel package so we can avoid doing imports until\n"
     ]
    },
    {
     "data": {
      "text/plain": [
       "trips_in_first_30_days     2.278200\n",
       "avg_rating_of_driver       4.601559\n",
       "avg_surge                  1.074764\n",
       "surge_pct                  8.849536\n",
       "ultimate_black_user        0.377080\n",
       "weekday_pct               60.926084\n",
       "avg_dist                   5.796827\n",
       "avg_rating_by_driver       4.778158\n",
       "user_status                0.327080\n",
       "dtype: float64"
      ]
     },
     "execution_count": 46,
     "metadata": {},
     "output_type": "execute_result"
    }
   ],
   "source": [
    "# take the mean values in the df\n",
    "\n",
    "df.mean()"
   ]
  },
  {
   "cell_type": "code",
   "execution_count": 47,
   "metadata": {},
   "outputs": [
    {
     "name": "stderr",
     "output_type": "stream",
     "text": [
      "C:\\Users\\Harsh\\Anaconda3\\lib\\site-packages\\ipykernel_launcher.py:3: FutureWarning: DataFrame.mean and DataFrame.median with numeric_only=None will include datetime64 and datetime64tz columns in a future version.\n",
      "  This is separate from the ipykernel package so we can avoid doing imports until\n"
     ]
    }
   ],
   "source": [
    "# fill the NA's with the mean of the respective columns\n",
    "\n",
    "df = df.fillna(round(df.mean(),1))"
   ]
  },
  {
   "cell_type": "code",
   "execution_count": 48,
   "metadata": {},
   "outputs": [],
   "source": [
    "# fill the NA's in the 'phone' column with 'Other'\n",
    "\n",
    "df['phone'] = df['phone'].fillna('Other')"
   ]
  },
  {
   "cell_type": "code",
   "execution_count": 49,
   "metadata": {},
   "outputs": [
    {
     "name": "stdout",
     "output_type": "stream",
     "text": [
      "<class 'pandas.core.frame.DataFrame'>\n",
      "RangeIndex: 50000 entries, 0 to 49999\n",
      "Data columns (total 13 columns):\n",
      " #   Column                  Non-Null Count  Dtype         \n",
      "---  ------                  --------------  -----         \n",
      " 0   city                    50000 non-null  object        \n",
      " 1   trips_in_first_30_days  50000 non-null  int64         \n",
      " 2   signup_date             50000 non-null  datetime64[ns]\n",
      " 3   avg_rating_of_driver    50000 non-null  float64       \n",
      " 4   avg_surge               50000 non-null  float64       \n",
      " 5   last_trip_date          50000 non-null  datetime64[ns]\n",
      " 6   phone                   50000 non-null  object        \n",
      " 7   surge_pct               50000 non-null  float64       \n",
      " 8   ultimate_black_user     50000 non-null  bool          \n",
      " 9   weekday_pct             50000 non-null  float64       \n",
      " 10  avg_dist                50000 non-null  float64       \n",
      " 11  avg_rating_by_driver    50000 non-null  float64       \n",
      " 12  user_status             50000 non-null  int64         \n",
      "dtypes: bool(1), datetime64[ns](2), float64(6), int64(2), object(2)\n",
      "memory usage: 4.6+ MB\n"
     ]
    }
   ],
   "source": [
    "# Now all the NA's are gone.\n",
    "df.info()"
   ]
  },
  {
   "cell_type": "markdown",
   "metadata": {},
   "source": [
    "### Visualisations"
   ]
  },
  {
   "cell_type": "code",
   "execution_count": 50,
   "metadata": {},
   "outputs": [
    {
     "data": {
      "text/plain": [
       "Text(0.5, 1.0, 'Number of Active/Inactive users')"
      ]
     },
     "execution_count": 50,
     "metadata": {},
     "output_type": "execute_result"
    },
    {
     "data": {
      "image/png": "[encoded data removed]",
      "text/plain": [
       "<Figure size 576x360 with 1 Axes>"
      ]
     },
     "metadata": {
      "needs_background": "light"
     },
     "output_type": "display_data"
    }
   ],
   "source": [
    "# Plot the user retention numbers\n",
    "\n",
    "fig = plt.figure(figsize=(8,5))\n",
    "x = ['Inactive', 'Active']\n",
    "nos = [(df['user_status'] == 0).sum(), (df['user_status'] == 1).sum()]\n",
    "\n",
    "plt.bar(x,nos, width=0.4)\n",
    "plt.xlabel('User retention')\n",
    "plt.ylabel('Total Numbers')\n",
    "plt.title('Number of Active/Inactive users')"
   ]
  },
  {
   "cell_type": "code",
   "execution_count": 51,
   "metadata": {},
   "outputs": [
    {
     "data": {
      "text/plain": [
       "Text(0.5, 1.0, 'Users with the percentage of weekday use')"
      ]
     },
     "execution_count": 51,
     "metadata": {},
     "output_type": "execute_result"
    },
    {
     "data": {
      "image/png": "[encoded data removed]",
      "text/plain": [
       "<Figure size 576x360 with 1 Axes>"
      ]
     },
     "metadata": {
      "needs_background": "light"
     },
     "output_type": "display_data"
    }
   ],
   "source": [
    "# plot the number of users with different percentages of weekday usage\n",
    "\n",
    "fig = plt.figure(figsize=(8,5))\n",
    "plt.hist(df['weekday_pct'], bins=10, align='left', edgecolor='black')\n",
    "plt.xlabel('Percentage')\n",
    "plt.ylabel('Users')\n",
    "plt.title('Users with the percentage of weekday use')"
   ]
  },
  {
   "cell_type": "code",
   "execution_count": 52,
   "metadata": {},
   "outputs": [
    {
     "data": {
      "text/plain": [
       "Text(0.5, 1.0, 'Total logins on different months')"
      ]
     },
     "execution_count": 52,
     "metadata": {},
     "output_type": "execute_result"
    },
    {
     "data": {
      "image/png": "[encoded data removed]",
      "text/plain": [
       "<Figure size 576x360 with 1 Axes>"
      ]
     },
     "metadata": {
      "needs_background": "light"
     },
     "output_type": "display_data"
    }
   ],
   "source": [
    "# Plot histogram of number of user activity for each month till June.\n",
    "\n",
    "fig = plt.figure(figsize=(8,5))\n",
    "plt.hist(df['last_trip_date'], bins=6, align='left', edgecolor='black')\n",
    "plt.xlabel('Months')\n",
    "plt.ylabel('user activity')\n",
    "plt.title('Total logins on different months')"
   ]
  },
  {
   "cell_type": "markdown",
   "metadata": {},
   "source": [
    "We can tell by looking at the 2 histograms above that the month of June shows maximum number of users and almost the same number are weekday users. We can probably say that the ridership has increased in June even during the weekdays - this could be because of vacation."
   ]
  },
  {
   "cell_type": "code",
   "execution_count": 53,
   "metadata": {},
   "outputs": [],
   "source": [
    "# Copute the correlation matrix\n",
    "correlation = df.corr()"
   ]
  },
  {
   "cell_type": "code",
   "execution_count": 54,
   "metadata": {},
   "outputs": [
    {
     "name": "stdout",
     "output_type": "stream",
     "text": [
      "                        trips_in_first_30_days  avg_rating_of_driver  \\\n",
      "trips_in_first_30_days                1.000000             -0.010861   \n",
      "avg_rating_of_driver                 -0.010861              1.000000   \n",
      "avg_surge                            -0.001841             -0.021660   \n",
      "surge_pct                             0.005720             -0.003283   \n",
      "ultimate_black_user                   0.112210             -0.001879   \n",
      "weekday_pct                           0.050388              0.012609   \n",
      "avg_dist                             -0.136329              0.028373   \n",
      "avg_rating_by_driver                 -0.039187              0.101634   \n",
      "user_status                           0.143734             -0.011768   \n",
      "\n",
      "                        avg_surge  surge_pct  ultimate_black_user  \\\n",
      "trips_in_first_30_days  -0.001841   0.005720             0.112210   \n",
      "avg_rating_of_driver    -0.021660  -0.003283            -0.001879   \n",
      "avg_surge                1.000000   0.793582            -0.078791   \n",
      "surge_pct                0.793582   1.000000            -0.106861   \n",
      "ultimate_black_user     -0.078791  -0.106861             1.000000   \n",
      "weekday_pct             -0.110071  -0.144918             0.035998   \n",
      "avg_dist                -0.081491  -0.104414             0.032310   \n",
      "avg_rating_by_driver     0.010578   0.020032             0.009244   \n",
      "user_status             -0.001608   0.010093             0.188520   \n",
      "\n",
      "                        weekday_pct  avg_dist  avg_rating_by_driver  \\\n",
      "trips_in_first_30_days     0.050388 -0.136329             -0.039187   \n",
      "avg_rating_of_driver       0.012609  0.028373              0.101634   \n",
      "avg_surge                 -0.110071 -0.081491              0.010578   \n",
      "surge_pct                 -0.144918 -0.104414              0.020032   \n",
      "ultimate_black_user        0.035998  0.032310              0.009244   \n",
      "weekday_pct                1.000000  0.101652              0.020325   \n",
      "avg_dist                   0.101652  1.000000              0.079805   \n",
      "avg_rating_by_driver       0.020325  0.079805              1.000000   \n",
      "user_status                0.014016 -0.071269             -0.020527   \n",
      "\n",
      "                        user_status  \n",
      "trips_in_first_30_days     0.143734  \n",
      "avg_rating_of_driver      -0.011768  \n",
      "avg_surge                 -0.001608  \n",
      "surge_pct                  0.010093  \n",
      "ultimate_black_user        0.188520  \n",
      "weekday_pct                0.014016  \n",
      "avg_dist                  -0.071269  \n",
      "avg_rating_by_driver      -0.020527  \n",
      "user_status                1.000000  \n"
     ]
    }
   ],
   "source": [
    "print(correlation)"
   ]
  },
  {
   "cell_type": "markdown",
   "metadata": {},
   "source": [
    "From the correlation matrix above, we see that user_status is positively correlated with tripsin first 30 days and ultimate_black_user, but nothing very highly correlated. We do not see the datetime columns and I am sure that the last_trip_date will be highly correlated to user_status."
   ]
  },
  {
   "cell_type": "markdown",
   "metadata": {},
   "source": [
    "### Predictive Modeling"
   ]
  },
  {
   "cell_type": "markdown",
   "metadata": {},
   "source": [
    "Predicting the user retention for the sixth month is a classification problem - Binary classification. We need to build a model that can predict whether a user is retained (1) or not (0) in the 6th month. I will be using the Random Forest Classifier here.\n",
    "\n",
    "Before any kind of normalisation, transformations or model building, we need to convert the categorical/string variables to numeric - 'city' and the 'phone'. We then drop the original 'city' and 'phone' columns and create the new_df which contains only numeric features. Since, the datetime columns - signup_date and last_trip_date - are mostly to calculate the retention label as active or inactive, we can drop these too. The predicting features are then taken into another variable X and the label as y. The features are then scaled to have values between 0 and 1. The X_scaled and y are then ready to be split into training and test data."
   ]
  },
  {
   "cell_type": "code",
   "execution_count": 55,
   "metadata": {},
   "outputs": [],
   "source": [
    "from sklearn.preprocessing import  LabelEncoder\n",
    "from sklearn.preprocessing import MinMaxScaler\n",
    "from sklearn.model_selection import train_test_split\n",
    "from sklearn.ensemble import RandomForestClassifier\n",
    "from sklearn.metrics import classification_report\n",
    "from sklearn.model_selection import RandomizedSearchCV"
   ]
  },
  {
   "cell_type": "code",
   "execution_count": 56,
   "metadata": {},
   "outputs": [],
   "source": [
    "# Label encoding the 'city' column\n",
    "\n",
    "LE = LabelEncoder()\n",
    "df['city_code'] = LE.fit_transform(df['city'])"
   ]
  },
  {
   "cell_type": "code",
   "execution_count": 57,
   "metadata": {},
   "outputs": [
    {
     "name": "stdout",
     "output_type": "stream",
     "text": [
      "[\"King's Landing\" 'Astapor' 'Winterfell']\n",
      "[1 0 2]\n"
     ]
    }
   ],
   "source": [
    "print(df['city'].unique())\n",
    "print(df['city_code'].unique())"
   ]
  },
  {
   "cell_type": "code",
   "execution_count": 58,
   "metadata": {},
   "outputs": [],
   "source": [
    "# encoding the 'phone' column\n",
    "\n",
    "df['phone_code'] = LE.fit_transform(df['phone'])"
   ]
  },
  {
   "cell_type": "code",
   "execution_count": 59,
   "metadata": {},
   "outputs": [
    {
     "name": "stdout",
     "output_type": "stream",
     "text": [
      "['iPhone' 'Android' 'Other']\n",
      "[2 0 1]\n"
     ]
    }
   ],
   "source": [
    "print(df['phone'].unique())\n",
    "print(df['phone_code'].unique())"
   ]
  },
  {
   "cell_type": "code",
   "execution_count": 60,
   "metadata": {},
   "outputs": [],
   "source": [
    "# Drop the original 'city' and 'phone', and the datetime columns\n",
    "\n",
    "new_df = df.drop(['city','phone','signup_date', 'last_trip_date'], axis=1)"
   ]
  },
  {
   "cell_type": "code",
   "execution_count": 61,
   "metadata": {},
   "outputs": [
    {
     "data": {
      "text/html": [
       "<div>\n",
       "<style scoped>\n",
       "    .dataframe tbody tr th:only-of-type {\n",
       "        vertical-align: middle;\n",
       "    }\n",
       "\n",
       "    .dataframe tbody tr th {\n",
       "        vertical-align: top;\n",
       "    }\n",
       "\n",
       "    .dataframe thead th {\n",
       "        text-align: right;\n",
       "    }\n",
       "</style>\n",
       "<table border=\"1\" class=\"dataframe\">\n",
       "  <thead>\n",
       "    <tr style=\"text-align: right;\">\n",
       "      <th></th>\n",
       "      <th>trips_in_first_30_days</th>\n",
       "      <th>avg_rating_of_driver</th>\n",
       "      <th>avg_surge</th>\n",
       "      <th>surge_pct</th>\n",
       "      <th>ultimate_black_user</th>\n",
       "      <th>weekday_pct</th>\n",
       "      <th>avg_dist</th>\n",
       "      <th>avg_rating_by_driver</th>\n",
       "      <th>user_status</th>\n",
       "      <th>city_code</th>\n",
       "      <th>phone_code</th>\n",
       "    </tr>\n",
       "  </thead>\n",
       "  <tbody>\n",
       "    <tr>\n",
       "      <th>0</th>\n",
       "      <td>4</td>\n",
       "      <td>4.7</td>\n",
       "      <td>1.10</td>\n",
       "      <td>15.4</td>\n",
       "      <td>True</td>\n",
       "      <td>46.2</td>\n",
       "      <td>3.67</td>\n",
       "      <td>5.0</td>\n",
       "      <td>1</td>\n",
       "      <td>1</td>\n",
       "      <td>2</td>\n",
       "    </tr>\n",
       "    <tr>\n",
       "      <th>1</th>\n",
       "      <td>0</td>\n",
       "      <td>5.0</td>\n",
       "      <td>1.00</td>\n",
       "      <td>0.0</td>\n",
       "      <td>False</td>\n",
       "      <td>50.0</td>\n",
       "      <td>8.26</td>\n",
       "      <td>5.0</td>\n",
       "      <td>0</td>\n",
       "      <td>0</td>\n",
       "      <td>0</td>\n",
       "    </tr>\n",
       "    <tr>\n",
       "      <th>2</th>\n",
       "      <td>3</td>\n",
       "      <td>4.3</td>\n",
       "      <td>1.00</td>\n",
       "      <td>0.0</td>\n",
       "      <td>False</td>\n",
       "      <td>100.0</td>\n",
       "      <td>0.77</td>\n",
       "      <td>5.0</td>\n",
       "      <td>0</td>\n",
       "      <td>0</td>\n",
       "      <td>2</td>\n",
       "    </tr>\n",
       "    <tr>\n",
       "      <th>3</th>\n",
       "      <td>9</td>\n",
       "      <td>4.6</td>\n",
       "      <td>1.14</td>\n",
       "      <td>20.0</td>\n",
       "      <td>True</td>\n",
       "      <td>80.0</td>\n",
       "      <td>2.36</td>\n",
       "      <td>4.9</td>\n",
       "      <td>1</td>\n",
       "      <td>1</td>\n",
       "      <td>2</td>\n",
       "    </tr>\n",
       "    <tr>\n",
       "      <th>4</th>\n",
       "      <td>14</td>\n",
       "      <td>4.4</td>\n",
       "      <td>1.19</td>\n",
       "      <td>11.8</td>\n",
       "      <td>False</td>\n",
       "      <td>82.4</td>\n",
       "      <td>3.13</td>\n",
       "      <td>4.9</td>\n",
       "      <td>0</td>\n",
       "      <td>2</td>\n",
       "      <td>0</td>\n",
       "    </tr>\n",
       "  </tbody>\n",
       "</table>\n",
       "</div>"
      ],
      "text/plain": [
       "   trips_in_first_30_days  avg_rating_of_driver  avg_surge  surge_pct  \\\n",
       "0                       4                   4.7       1.10       15.4   \n",
       "1                       0                   5.0       1.00        0.0   \n",
       "2                       3                   4.3       1.00        0.0   \n",
       "3                       9                   4.6       1.14       20.0   \n",
       "4                      14                   4.4       1.19       11.8   \n",
       "\n",
       "   ultimate_black_user  weekday_pct  avg_dist  avg_rating_by_driver  \\\n",
       "0                 True         46.2      3.67                   5.0   \n",
       "1                False         50.0      8.26                   5.0   \n",
       "2                False        100.0      0.77                   5.0   \n",
       "3                 True         80.0      2.36                   4.9   \n",
       "4                False         82.4      3.13                   4.9   \n",
       "\n",
       "   user_status  city_code  phone_code  \n",
       "0            1          1           2  \n",
       "1            0          0           0  \n",
       "2            0          0           2  \n",
       "3            1          1           2  \n",
       "4            0          2           0  "
      ]
     },
     "execution_count": 61,
     "metadata": {},
     "output_type": "execute_result"
    }
   ],
   "source": [
    "new_df.head()"
   ]
  },
  {
   "cell_type": "code",
   "execution_count": 62,
   "metadata": {},
   "outputs": [],
   "source": [
    "# labels\n",
    "\n",
    "y = new_df['user_status']"
   ]
  },
  {
   "cell_type": "code",
   "execution_count": 63,
   "metadata": {},
   "outputs": [],
   "source": [
    "# drop the labels from the new_df and store column names\n",
    "\n",
    "new_df = new_df.drop(['user_status'],axis=1)\n",
    "col_names = new_df.columns"
   ]
  },
  {
   "cell_type": "code",
   "execution_count": 64,
   "metadata": {},
   "outputs": [],
   "source": [
    "# predictor numerical features \n",
    "\n",
    "X = new_df"
   ]
  },
  {
   "cell_type": "code",
   "execution_count": 65,
   "metadata": {},
   "outputs": [],
   "source": [
    "# scaled the features to be between 0 and 1\n",
    "\n",
    "scaler = MinMaxScaler()\n",
    "X_scaled = scaler.fit_transform(X)"
   ]
  },
  {
   "cell_type": "code",
   "execution_count": 66,
   "metadata": {},
   "outputs": [],
   "source": [
    "# Split the scaled data to train and test such that 70% is train and 30% is test data.\n",
    "\n",
    "X_train, X_test, y_train, y_test = train_test_split(X_scaled, y, test_size=0.30, random_state=10)"
   ]
  },
  {
   "cell_type": "code",
   "execution_count": 67,
   "metadata": {},
   "outputs": [
    {
     "name": "stdout",
     "output_type": "stream",
     "text": [
      "Train features shape:(35000, 10)\n",
      "Train label shape:(35000,)\n",
      "Test features shape:(15000, 10)\n",
      "Test features shape:(15000,)\n"
     ]
    }
   ],
   "source": [
    "print('Train features shape:' + str(X_train.shape))\n",
    "print('Train label shape:' + str(y_train.shape))\n",
    "print('Test features shape:' + str(X_test.shape))\n",
    "print('Test features shape:' + str(y_test.shape))"
   ]
  },
  {
   "cell_type": "markdown",
   "metadata": {},
   "source": [
    "We will first run a baseline model with default setting of the random forestclassifier. Since there is a slight class imbalance, we set the class_weights as 'balanced'. Then the model will be used to predict on the test data. Performance will be evaluated by the f1 score, precision and recall. Classification report generates all the performance metrics. We can then do some hyperparametric tuning by using RandomizedSearchCV. Crossvalidation used in this tool is stratifiedK-fold (k=3) and scoring is f1_macro as macro makes sure that the smaller class (active) is also weighed correctly."
   ]
  },
  {
   "cell_type": "code",
   "execution_count": 68,
   "metadata": {},
   "outputs": [
    {
     "data": {
      "text/plain": [
       "RandomForestClassifier(class_weight='balanced', random_state=10)"
      ]
     },
     "execution_count": 68,
     "metadata": {},
     "output_type": "execute_result"
    }
   ],
   "source": [
    "# Instantiate model - class_weight is set as 'balanced' as we have some imbalance in the dataset.\n",
    "rf = RandomForestClassifier(class_weight= 'balanced', random_state = 10)\n",
    "# Train the model on training data\n",
    "rf.fit(X_train, y_train)"
   ]
  },
  {
   "cell_type": "code",
   "execution_count": 69,
   "metadata": {},
   "outputs": [],
   "source": [
    "# Use predict method on the test data\n",
    "\n",
    "predictions = rf.predict(X_test)"
   ]
  },
  {
   "cell_type": "code",
   "execution_count": 70,
   "metadata": {},
   "outputs": [
    {
     "name": "stdout",
     "output_type": "stream",
     "text": [
      "              precision    recall  f1-score   support\n",
      "\n",
      "           0       0.79      0.83      0.81      9999\n",
      "           1       0.62      0.57      0.59      5001\n",
      "\n",
      "    accuracy                           0.74     15000\n",
      "   macro avg       0.71      0.70      0.70     15000\n",
      "weighted avg       0.74      0.74      0.74     15000\n",
      "\n"
     ]
    }
   ],
   "source": [
    "# print the classification report\n",
    "report_baseline = classification_report(y_test, predictions, output_dict=True)\n",
    "print(classification_report(y_test, predictions))"
   ]
  },
  {
   "cell_type": "code",
   "execution_count": 71,
   "metadata": {},
   "outputs": [],
   "source": [
    "# To check if the model is overfitting, predict on the train set to see performance\n",
    "\n",
    "ytrain_predictions = rf.predict(X_train)"
   ]
  },
  {
   "cell_type": "code",
   "execution_count": 72,
   "metadata": {},
   "outputs": [
    {
     "name": "stdout",
     "output_type": "stream",
     "text": [
      "              precision    recall  f1-score   support\n",
      "\n",
      "           0       1.00      1.00      1.00     23647\n",
      "           1       1.00      1.00      1.00     11353\n",
      "\n",
      "    accuracy                           1.00     35000\n",
      "   macro avg       1.00      1.00      1.00     35000\n",
      "weighted avg       1.00      1.00      1.00     35000\n",
      "\n"
     ]
    }
   ],
   "source": [
    "# print the classification_report\n",
    "\n",
    "report_train = classification_report(y_train, ytrain_predictions, output_dict=True)\n",
    "print(classification_report(y_train, ytrain_predictions))"
   ]
  },
  {
   "cell_type": "markdown",
   "metadata": {},
   "source": [
    "The results between the predictions on the train and test set are not too far apart - shows that overfitting did not happen."
   ]
  },
  {
   "cell_type": "code",
   "execution_count": 73,
   "metadata": {},
   "outputs": [],
   "source": [
    "# Using the RandomizedSearchCV, we chose a few parameters to tune the model.\n",
    "# create a dictionary of parametric values\n",
    "\n",
    "random_grid = {'n_estimators': [100,300,500,700,900],\n",
    "               'max_features': ['sqrt','log2','auto'],\n",
    "               'bootstrap': [True, False]}"
   ]
  },
  {
   "cell_type": "code",
   "execution_count": 74,
   "metadata": {},
   "outputs": [
    {
     "data": {
      "text/plain": [
       "RandomizedSearchCV(cv=3,\n",
       "                   estimator=RandomForestClassifier(class_weight='balanced',\n",
       "                                                    random_state=10),\n",
       "                   n_iter=20,\n",
       "                   param_distributions={'bootstrap': [True, False],\n",
       "                                        'max_features': ['sqrt', 'log2',\n",
       "                                                         'auto'],\n",
       "                                        'n_estimators': [100, 300, 500, 700,\n",
       "                                                         900]},\n",
       "                   random_state=10, scoring='f1_macro')"
      ]
     },
     "execution_count": 74,
     "metadata": {},
     "output_type": "execute_result"
    }
   ],
   "source": [
    "# Use the random grid to search for best hyperparameters\n",
    "# First create the base model to tune\n",
    "\n",
    "rf = RandomForestClassifier(class_weight= 'balanced', random_state = 10)\n",
    "\n",
    "# Random search of parameters, using 3 fold cross validation, \n",
    "# search across 20 different combinations\n",
    "# scoring is set to f1_macro\n",
    "\n",
    "rf_random = RandomizedSearchCV(estimator = rf, param_distributions = random_grid, n_iter = 20, cv = 3, scoring='f1_macro', random_state=10)\n",
    "\n",
    "# Fit the random search model\n",
    "\n",
    "rf_random.fit(X_train, y_train)"
   ]
  },
  {
   "cell_type": "code",
   "execution_count": 75,
   "metadata": {},
   "outputs": [],
   "source": [
    "# the best parameters\n",
    "\n",
    "best_parameters = rf_random.best_params_"
   ]
  },
  {
   "cell_type": "code",
   "execution_count": 76,
   "metadata": {},
   "outputs": [
    {
     "name": "stdout",
     "output_type": "stream",
     "text": [
      "{'n_estimators': 700, 'max_features': 'sqrt', 'bootstrap': True}\n"
     ]
    }
   ],
   "source": [
    "print(best_parameters)"
   ]
  },
  {
   "cell_type": "code",
   "execution_count": 77,
   "metadata": {},
   "outputs": [],
   "source": [
    "# Best model with the best parameters\n",
    "\n",
    "best_model = rf_random.best_estimator_"
   ]
  },
  {
   "cell_type": "code",
   "execution_count": 78,
   "metadata": {},
   "outputs": [
    {
     "data": {
      "text/plain": [
       "RandomForestClassifier(class_weight='balanced', max_features='sqrt',\n",
       "                       n_estimators=700, random_state=10)"
      ]
     },
     "execution_count": 78,
     "metadata": {},
     "output_type": "execute_result"
    }
   ],
   "source": [
    "# Use the best_model to fit the training set\n",
    "\n",
    "best_model.fit(X_train, y_train)"
   ]
  },
  {
   "cell_type": "code",
   "execution_count": 79,
   "metadata": {},
   "outputs": [],
   "source": [
    "# Used the best_model to predict on the test set\n",
    "\n",
    "ypred_cv = best_model.predict(X_test)"
   ]
  },
  {
   "cell_type": "code",
   "execution_count": 80,
   "metadata": {},
   "outputs": [
    {
     "name": "stdout",
     "output_type": "stream",
     "text": [
      "              precision    recall  f1-score   support\n",
      "\n",
      "           0       0.80      0.82      0.81      9999\n",
      "           1       0.62      0.58      0.60      5001\n",
      "\n",
      "    accuracy                           0.74     15000\n",
      "   macro avg       0.71      0.70      0.70     15000\n",
      "weighted avg       0.74      0.74      0.74     15000\n",
      "\n"
     ]
    }
   ],
   "source": [
    "# print the classification report\n",
    "\n",
    "report_best_model = classification_report(y_test, ypred_cv, output_dict=True)\n",
    "print(classification_report(y_test, ypred_cv))"
   ]
  },
  {
   "cell_type": "code",
   "execution_count": 81,
   "metadata": {},
   "outputs": [],
   "source": [
    "# Collecting the numbers into a list\n",
    "\n",
    "f1_macro = [report_baseline['macro avg']['f1-score'],report_best_model['macro avg']['f1-score']]\n",
    "Precision = [report_baseline['macro avg']['precision'],report_best_model['macro avg']['precision']]\n",
    "Recall = [report_baseline['macro avg']['recall'],report_best_model['macro avg']['recall']]"
   ]
  },
  {
   "cell_type": "code",
   "execution_count": 82,
   "metadata": {},
   "outputs": [
    {
     "name": "stdout",
     "output_type": "stream",
     "text": [
      "The f1-score macro went from 0.7 in baseline to 0.7 in the tuned model\n",
      "The f1 macro for Precision went from 0.71 in baseline to 0.71 in the tuned model\n",
      "The f1 macro for Recall went from 0.7 in baseline to 0.7 in the tuned model\n"
     ]
    }
   ],
   "source": [
    "print('The f1-score macro went from '+ str(round(f1_macro[0],2))+ ' in baseline to '+str(round(f1_macro[1],2))+' in the tuned model')\n",
    "print('The f1 macro for Precision went from '+ str(round(Precision[0],2))+ ' in baseline to '+str(round(Precision[1],2))+' in the tuned model')\n",
    "print('The f1 macro for Recall went from '+ str(round(Recall[0],2))+ ' in baseline to '+str(round(Recall[1],2))+' in the tuned model')"
   ]
  },
  {
   "cell_type": "code",
   "execution_count": 83,
   "metadata": {},
   "outputs": [
    {
     "data": {
      "text/plain": [
       "<matplotlib.legend.Legend at 0x1a82867d4e0>"
      ]
     },
     "execution_count": 83,
     "metadata": {},
     "output_type": "execute_result"
    },
    {
     "data": {
      "image/png": "[encoded data removed]",
      "text/plain": [
       "<Figure size 432x288 with 1 Axes>"
      ]
     },
     "metadata": {
      "needs_background": "light"
     },
     "output_type": "display_data"
    }
   ],
   "source": [
    "plt.plot(f1_macro, color='red', label='f1_macro')\n",
    "plt.plot(Precision, color='green', label='Precision')\n",
    "plt.plot(Recall, color='blue', label='Recall')\n",
    "plt.title('Increase from baseline to best_model')\n",
    "plt.xticks([])\n",
    "plt.legend()"
   ]
  },
  {
   "cell_type": "code",
   "execution_count": 84,
   "metadata": {},
   "outputs": [
    {
     "name": "stdout",
     "output_type": "stream",
     "text": [
      "Features sorted by their score:\n",
      "[(0.3174, 'avg_dist'), (0.1348, 'weekday_pct'), (0.1003, 'avg_rating_by_driver'), (0.0874, 'trips_in_first_30_days'), (0.0859, 'avg_rating_of_driver'), (0.0727, 'surge_pct'), (0.0709, 'city_code'), (0.0599, 'avg_surge'), (0.043, 'phone_code'), (0.0277, 'ultimate_black_user')]\n"
     ]
    }
   ],
   "source": [
    "# Print the features and their scores - feature importance\n",
    "\n",
    "print(\"Features sorted by their score:\")\n",
    "print(sorted(zip(map(lambda x: round(x, 4), best_model.feature_importances_), col_names), reverse=True))"
   ]
  },
  {
   "cell_type": "markdown",
   "metadata": {},
   "source": [
    "### Discussion"
   ]
  },
  {
   "cell_type": "markdown",
   "metadata": {},
   "source": [
    "We chose the RandomForest Classifier for this classification problem. The performance was evaluated by the f1 macro score which also accounts for the 'smaller' active population  - which is important in this imbalanced dataset. Precision and recall have also been measured. \n",
    "\n",
    "From this model, an insight that can help increase user retention is to get more long distance riders and riders on weekdays. Regular long distance travellers tend to stick to a routine service."
   ]
  },
  {
   "cell_type": "code",
   "execution_count": null,
   "metadata": {},
   "outputs": [],
   "source": []
  }
 ],
 "metadata": {
  "kernelspec": {
   "display_name": "Python 3",
   "language": "python",
   "name": "python3"
  },
  "language_info": {
   "codemirror_mode": {
    "name": "ipython",
    "version": 3
   },
   "file_extension": ".py",
   "mimetype": "text/x-python",
   "name": "python",
   "nbconvert_exporter": "python",
   "pygments_lexer": "ipython3",
   "version": "3.7.1"
  }
 },
 "nbformat": 4,
 "nbformat_minor": 2
}
